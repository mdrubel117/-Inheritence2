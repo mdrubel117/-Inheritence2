{
  "nbformat": 4,
  "nbformat_minor": 0,
  "metadata": {
    "colab": {
      "provenance": [],
      "gpuType": "T4",
      "include_colab_link": true
    },
    "kernelspec": {
      "name": "python3",
      "display_name": "Python 3"
    },
    "language_info": {
      "name": "python"
    },
    "accelerator": "GPU"
  },
  "cells": [
    {
      "cell_type": "markdown",
      "metadata": {
        "id": "view-in-github",
        "colab_type": "text"
      },
      "source": [
        "<a href=\"https://colab.research.google.com/github/mdrubel117/-Inheritence2/blob/main/Cuda_phoneBook.ipynb\" target=\"_parent\"><img src=\"https://colab.research.google.com/assets/colab-badge.svg\" alt=\"Open In Colab\"/></a>"
      ]
    },
    {
      "cell_type": "code",
      "execution_count": 1,
      "metadata": {
        "colab": {
          "base_uri": "https://localhost:8080/"
        },
        "id": "1gM96WnVtBjS",
        "outputId": "49f3c391-f51f-4110-8359-b672c849d338"
      },
      "outputs": [
        {
          "output_type": "stream",
          "name": "stdout",
          "text": [
            "Writing phonebook_search.cu\n"
          ]
        }
      ],
      "source": [
        "%%writefile phonebook_search.cu\n",
        "#include <bits/stdc++.h>\n",
        "using namespace std;\n",
        "#include <cuda.h>\n",
        "\n",
        "struct Contact{\n",
        "    char name[65];\n",
        "    char phone_number[65];\n",
        "};\n",
        "\n",
        "\n",
        "string getInput(ifstream& file){\n",
        "    string ans;\n",
        "    char c;\n",
        "    int readSuru = 0;\n",
        "    while(file.get(c)){\n",
        "        if(c == '\\\"'){\n",
        "            if(readSuru == 1) break;\n",
        "            readSuru = 1;\n",
        "        }else{\n",
        "            if(readSuru){\n",
        "                ans.push_back(c);\n",
        "            }\n",
        "        }\n",
        "    }\n",
        "    return ans;\n",
        "}\n",
        "\n",
        "__device__ bool check(char* str1, char* str2){\n",
        "    for(int i = 0; str1[i] != '\\0'; i++){\n",
        "        int flag = 1;\n",
        "        for(int j = 0; str2[j] != '\\0' ; j++){\n",
        "            if(str1[i + j] != str2[j]){\n",
        "                flag = 0;\n",
        "                break;\n",
        "            }\n",
        "        }\n",
        "        if(flag == 1) return true;\n",
        "    }\n",
        "    return false;\n",
        "}\n",
        "\n",
        "\n",
        "__global__ void myKernel(Contact* phoneBook, char* pat, int offset){\n",
        "    int threadNumber = threadIdx.x + offset;\n",
        "    if(check(phoneBook[threadNumber].name, pat)){\n",
        "        printf(\"%s %s\\n\", phoneBook[threadNumber].name, phoneBook[threadNumber].phone_number);\n",
        "    }\n",
        "}\n",
        "\n",
        "\n",
        "\n",
        "int main(int argc, char* argv[])\n",
        "{\n",
        "    int threadLimit = atoi(argv[2]);\n",
        "\n",
        "    ifstream myfile(\"/content/drive/MyDrive/dataset/labtest_dataset2.txt\");\n",
        "    vector<Contact> phoneBook;\n",
        "\n",
        "    int count = 0;\n",
        "\n",
        "    while(myfile.peek() != EOF){\n",
        "\n",
        "        if(count > 10000) break;\n",
        "        count++;\n",
        "\n",
        "        string name = getInput(myfile);\n",
        "        string phoneNum = getInput(myfile);\n",
        "\n",
        "        Contact c;\n",
        "        strcpy(c.name, name.c_str());\n",
        "        strcpy(c.phone_number, phoneNum.c_str());\n",
        "\n",
        "        phoneBook.push_back(c);\n",
        "    }\n",
        "\n",
        "    string search_name = argv[1];\n",
        "    char pat[65];\n",
        "    strcpy(pat, search_name.c_str());\n",
        "\n",
        "\n",
        "    char* d_pat;\n",
        "    cudaMalloc(&d_pat, 65); //memory allocation\n",
        "    cudaMemcpy(d_pat, pat, 65, cudaMemcpyHostToDevice); //copying to device\n",
        "\n",
        "    int n = phoneBook.size();\n",
        "    Contact* d_phoneBook;\n",
        "    cudaMalloc(&d_phoneBook, n*sizeof(Contact));\n",
        "    cudaMemcpy(d_phoneBook, phoneBook.data(), n * sizeof(Contact), cudaMemcpyHostToDevice);\n",
        "\n",
        "\n",
        "    int bakiAche = n;\n",
        "    int offset = 0;\n",
        "    while(bakiAche > 0){\n",
        "        int batchSize = min(threadLimit, bakiAche);\n",
        "        myKernel<<<1,batchSize>>>(d_phoneBook, d_pat, offset);\n",
        "        cudaDeviceSynchronize();\n",
        "\n",
        "        bakiAche -= batchSize;\n",
        "        offset += batchSize;\n",
        "    }\n",
        "\n",
        "}"
      ]
    },
    {
      "cell_type": "code",
      "source": [
        "from google.colab import drive\n",
        "drive.mount('/content/drive')"
      ],
      "metadata": {
        "colab": {
          "base_uri": "https://localhost:8080/"
        },
        "id": "U83MazfDL8tw",
        "outputId": "2d85111e-336e-4157-8916-6064d052b165"
      },
      "execution_count": null,
      "outputs": [
        {
          "output_type": "stream",
          "name": "stdout",
          "text": [
            "Drive already mounted at /content/drive; to attempt to forcibly remount, call drive.mount(\"/content/drive\", force_remount=True).\n"
          ]
        }
      ]
    },
    {
      "cell_type": "code",
      "source": [
        "!nvcc -arch=sm_75 phonebook_search.cu -o phonebook_search"
      ],
      "metadata": {
        "id": "0O_5jKh-tNw9"
      },
      "execution_count": null,
      "outputs": []
    },
    {
      "cell_type": "code",
      "source": [
        "!time ./phonebook_search MUMU 1 > output.txt"
      ],
      "metadata": {
        "id": "P2oB63uZvb5g",
        "colab": {
          "base_uri": "https://localhost:8080/"
        },
        "outputId": "d727f25b-b739-4e21-e114-8c6e8ff71afd"
      },
      "execution_count": null,
      "outputs": [
        {
          "output_type": "stream",
          "name": "stdout",
          "text": [
            "\n",
            "real\t0m2.100s\n",
            "user\t0m0.167s\n",
            "sys\t0m0.157s\n"
          ]
        }
      ]
    },
    {
      "cell_type": "code",
      "source": [
        "!time ./phonebook_search MUMU 2 > output.txt"
      ],
      "metadata": {
        "id": "67MqoXmCtOnM",
        "colab": {
          "base_uri": "https://localhost:8080/"
        },
        "outputId": "e5e4ed6e-a67d-4a08-ea02-0ce7e3a9ead3"
      },
      "execution_count": null,
      "outputs": [
        {
          "output_type": "stream",
          "name": "stdout",
          "text": [
            "\n",
            "real\t0m0.201s\n",
            "user\t0m0.088s\n",
            "sys\t0m0.104s\n"
          ]
        }
      ]
    },
    {
      "cell_type": "code",
      "source": [
        "!time ./phonebook_search MUMU 5 > output.txt"
      ],
      "metadata": {
        "colab": {
          "base_uri": "https://localhost:8080/"
        },
        "id": "hXhagRvfDWh-",
        "outputId": "8e648917-9fb7-4c46-954d-81f7a09b667a"
      },
      "execution_count": null,
      "outputs": [
        {
          "output_type": "stream",
          "name": "stdout",
          "text": [
            "\n",
            "real\t0m0.162s\n",
            "user\t0m0.051s\n",
            "sys\t0m0.104s\n"
          ]
        }
      ]
    },
    {
      "cell_type": "code",
      "source": [
        "!time ./phonebook_search MUMU 10 > output.txt"
      ],
      "metadata": {
        "colab": {
          "base_uri": "https://localhost:8080/"
        },
        "id": "3lrmy0bxDZKT",
        "outputId": "2ab650dd-05e4-4166-97d5-6db6a491c090"
      },
      "execution_count": null,
      "outputs": [
        {
          "output_type": "stream",
          "name": "stdout",
          "text": [
            "\n",
            "real\t0m0.156s\n",
            "user\t0m0.043s\n",
            "sys\t0m0.102s\n"
          ]
        }
      ]
    },
    {
      "cell_type": "code",
      "source": [],
      "metadata": {
        "id": "H4rbL06YDs-o"
      },
      "execution_count": null,
      "outputs": []
    }
  ]
}