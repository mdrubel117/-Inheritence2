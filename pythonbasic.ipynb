{
  "nbformat": 4,
  "nbformat_minor": 0,
  "metadata": {
    "colab": {
      "provenance": [],
      "authorship_tag": "ABX9TyMW1BiRYH0/Dea2OFsis3T3",
      "include_colab_link": true
    },
    "kernelspec": {
      "name": "python3",
      "display_name": "Python 3"
    },
    "language_info": {
      "name": "python"
    }
  },
  "cells": [
    {
      "cell_type": "markdown",
      "metadata": {
        "id": "view-in-github",
        "colab_type": "text"
      },
      "source": [
        "<a href=\"https://colab.research.google.com/github/mdrubel117/-Inheritence2/blob/main/pythonbasic.ipynb\" target=\"_parent\"><img src=\"https://colab.research.google.com/assets/colab-badge.svg\" alt=\"Open In Colab\"/></a>"
      ]
    },
    {
      "cell_type": "code",
      "execution_count": 3,
      "metadata": {
        "colab": {
          "base_uri": "https://localhost:8080/"
        },
        "id": "sGVDe2qhfzPd",
        "outputId": "479fa6aa-4af8-485a-eaf7-73338ddae54e"
      },
      "outputs": [
        {
          "output_type": "stream",
          "name": "stdout",
          "text": [
            "Introduction\n",
            "My name is Md. Rubel\n",
            "The name of my Department is Computer Science and Engineering,University Of Rajshahi.\n",
            "If you are a man,\n",
            "you should  earn more and more money\n"
          ]
        }
      ],
      "source": [
        "#simple\n",
        "print('Introduction')\n",
        "print(\"My name is Md. Rubel\")\n",
        "#print('Kamrul')\n",
        "'''\n",
        "print(99)\n",
        "print(\"Rasel\")\n",
        "'''\n",
        "print(\"The name of my Department is Computer Science and Engineering,University Of Rajshahi.\")\n",
        "print(\"If you are a man,\\nyou should  earn more and more money\")"
      ]
    },
    {
      "cell_type": "code",
      "source": [
        "#newline\n",
        "print(\"This is a python program.\\n we are doing it in a google colab.\\n my name is \\\"RUBEL\\\" \")"
      ],
      "metadata": {
        "colab": {
          "base_uri": "https://localhost:8080/"
        },
        "id": "SFEKsOp5t3Oo",
        "outputId": "673f247c-8409-4e2f-ff1c-425f3c1fbc4a"
      },
      "execution_count": 5,
      "outputs": [
        {
          "output_type": "stream",
          "name": "stdout",
          "text": [
            "This is a python program.\n",
            " we are doing it in a google colab.\n",
            " my name is \"RUBEL\" \n"
          ]
        }
      ]
    },
    {
      "cell_type": "code",
      "source": [
        "#variable\n",
        "name=\"RUBEL\"\n",
        "name1=\"KAMRUL\"\n",
        "age=23\n",
        "age1=22\n",
        "print (\"My name is \"+name)\n",
        "print (\"I am \",age, \"years old\")\n",
        "print (\"My name is \"+name1+ \"\\nI am \",age1, \"years old\")"
      ],
      "metadata": {
        "colab": {
          "base_uri": "https://localhost:8080/"
        },
        "id": "-plrni6IwHlC",
        "outputId": "3318d87a-0df9-4f61-fc4b-5ddde1ea1916"
      },
      "execution_count": 13,
      "outputs": [
        {
          "output_type": "stream",
          "name": "stdout",
          "text": [
            "My name is RUBEL\n",
            "I am  23 years old\n",
            "My name is KAMRUL\n",
            "I am  22 years old\n"
          ]
        }
      ]
    },
    {
      "cell_type": "code",
      "source": [
        "#operators\n",
        "a=20\n",
        "b=4\n",
        "q=4\n",
        "s=15\n",
        "r=a+b\n",
        "print(r)\n",
        "r=a-b\n",
        "print(r)\n",
        "r=a*b\n",
        "print(r)\n",
        "r=a/b\n",
        "print(r)\n",
        "print(q**2)\n",
        "r=s//q # flooring,nearest value\n",
        "print(r)\n",
        "r=s%q\n",
        "print(r)\n"
      ],
      "metadata": {
        "colab": {
          "base_uri": "https://localhost:8080/"
        },
        "id": "YNswDJB2ysHX",
        "outputId": "72dedb03-28da-4ea3-9898-e31ceb636e5c"
      },
      "execution_count": 16,
      "outputs": [
        {
          "output_type": "stream",
          "name": "stdout",
          "text": [
            "24\n",
            "16\n",
            "80\n",
            "5.0\n",
            "16\n",
            "3\n",
            "3\n"
          ]
        }
      ]
    },
    {
      "cell_type": "code",
      "source": [
        "#take input from user\n",
        "a=input(\"Enter a input :\")\n",
        "print(a)\n",
        "#typecasting\n",
        "b=int (input(\"Enter a integer input :\"))\n",
        "print(b)"
      ],
      "metadata": {
        "colab": {
          "base_uri": "https://localhost:8080/"
        },
        "id": "lP8abT4g16Ct",
        "outputId": "b8f873e8-2981-477f-9ec2-92a9e32a16c9"
      },
      "execution_count": 7,
      "outputs": [
        {
          "output_type": "stream",
          "name": "stdout",
          "text": [
            "34\n",
            "34\n",
            "56\n",
            "56\n"
          ]
        }
      ]
    },
    {
      "cell_type": "code",
      "source": [
        "name =input(\"Enter your name :\")\n",
        "age =int(input(\"Enter your age :\"))\n",
        "gpa=float(input(\"Enter your gpa :\"))\n",
        "print(\"Information :\")\n",
        "print(\"Name: \"+name)\n",
        "print(\"Name: \",age)\n",
        "print(\"Name: \",gpa)\n",
        "\n",
        "\n"
      ],
      "metadata": {
        "id": "JqkJ5CG_67hq",
        "outputId": "700b6393-4250-4efe-e3b6-9d7b6abd04c0",
        "colab": {
          "base_uri": "https://localhost:8080/"
        }
      },
      "execution_count": 11,
      "outputs": [
        {
          "output_type": "stream",
          "name": "stdout",
          "text": [
            "Enter your name :RUBEL\n",
            "Enter your age :22\n",
            "Enter your gpa :3.5\n",
            "Information :\n",
            "Name: RUBEL\n",
            "Name:  22\n",
            "Name:  3.5\n"
          ]
        }
      ]
    }
  ]
}