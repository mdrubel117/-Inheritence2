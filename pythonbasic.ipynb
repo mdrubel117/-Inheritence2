{
  "nbformat": 4,
  "nbformat_minor": 0,
  "metadata": {
    "colab": {
      "provenance": [],
      "authorship_tag": "ABX9TyMNmhvn37/5+9lMBN+OceHV",
      "include_colab_link": true
    },
    "kernelspec": {
      "name": "python3",
      "display_name": "Python 3"
    },
    "language_info": {
      "name": "python"
    }
  },
  "cells": [
    {
      "cell_type": "markdown",
      "metadata": {
        "id": "view-in-github",
        "colab_type": "text"
      },
      "source": [
        "<a href=\"https://colab.research.google.com/github/mdrubel117/-Inheritence2/blob/main/pythonbasic.ipynb\" target=\"_parent\"><img src=\"https://colab.research.google.com/assets/colab-badge.svg\" alt=\"Open In Colab\"/></a>"
      ]
    },
    {
      "cell_type": "code",
      "execution_count": null,
      "metadata": {
        "colab": {
          "base_uri": "https://localhost:8080/"
        },
        "id": "sGVDe2qhfzPd",
        "outputId": "7ac8ffc9-2f3a-473f-f544-ca2ce9e9e38f"
      },
      "outputs": [
        {
          "output_type": "stream",
          "name": "stdout",
          "text": [
            "3\n",
            "Rubel\n",
            "45\n"
          ]
        }
      ],
      "source": [
        "print('Introduction')\n",
        "print(\" My name is Md. Rubel\")\n",
        "#print('Kamrul')\n",
        "'''\n",
        "print(99)\n",
        "print(\"Rasel\")\n",
        "'''\n",
        "print(\"The name of my Department is Computer Science and Engineering,University Of Rajshahi.\")\n",
        "print(\" If you are a man.\\n you should  earn more and more money\")"
      ]
    }
  ]
}