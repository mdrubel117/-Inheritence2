{
  "nbformat": 4,
  "nbformat_minor": 0,
  "metadata": {
    "colab": {
      "provenance": [],
      "authorship_tag": "ABX9TyNUrhTs30ni3cGTp/gkFSRk",
      "include_colab_link": true
    },
    "kernelspec": {
      "name": "python3",
      "display_name": "Python 3"
    },
    "language_info": {
      "name": "python"
    }
  },
  "cells": [
    {
      "cell_type": "markdown",
      "metadata": {
        "id": "view-in-github",
        "colab_type": "text"
      },
      "source": [
        "<a href=\"https://colab.research.google.com/github/mdrubel117/-Inheritence2/blob/main/pythonbasic.ipynb\" target=\"_parent\"><img src=\"https://colab.research.google.com/assets/colab-badge.svg\" alt=\"Open In Colab\"/></a>"
      ]
    },
    {
      "cell_type": "code",
      "execution_count": 3,
      "metadata": {
        "colab": {
          "base_uri": "https://localhost:8080/"
        },
        "id": "sGVDe2qhfzPd",
        "outputId": "479fa6aa-4af8-485a-eaf7-73338ddae54e"
      },
      "outputs": [
        {
          "output_type": "stream",
          "name": "stdout",
          "text": [
            "Introduction\n",
            "My name is Md. Rubel\n",
            "The name of my Department is Computer Science and Engineering,University Of Rajshahi.\n",
            "If you are a man,\n",
            "you should  earn more and more money\n"
          ]
        }
      ],
      "source": [
        "print('Introduction')\n",
        "print(\"My name is Md. Rubel\")\n",
        "#print('Kamrul')\n",
        "'''\n",
        "print(99)\n",
        "print(\"Rasel\")\n",
        "'''\n",
        "print(\"The name of my Department is Computer Science and Engineering,University Of Rajshahi.\")\n",
        "print(\"If you are a man,\\nyou should  earn more and more money\")"
      ]
    },
    {
      "cell_type": "code",
      "source": [
        "print(\"This is a python program.\\n we are doing it in a google colab.\\n my name is \\\"RUBEL\\\" \")"
      ],
      "metadata": {
        "colab": {
          "base_uri": "https://localhost:8080/"
        },
        "id": "SFEKsOp5t3Oo",
        "outputId": "673f247c-8409-4e2f-ff1c-425f3c1fbc4a"
      },
      "execution_count": 5,
      "outputs": [
        {
          "output_type": "stream",
          "name": "stdout",
          "text": [
            "This is a python program.\n",
            " we are doing it in a google colab.\n",
            " my name is \"RUBEL\" \n"
          ]
        }
      ]
    },
    {
      "cell_type": "code",
      "source": [
        "name=\"RUBEL\"\n",
        "age=22\n",
        "print (\"My name is \"+name)\n",
        "print (\"I am \",age, \"years old\")"
      ],
      "metadata": {
        "colab": {
          "base_uri": "https://localhost:8080/"
        },
        "id": "-plrni6IwHlC",
        "outputId": "566b803e-29b7-4c25-c7ec-78836ecaa570"
      },
      "execution_count": 10,
      "outputs": [
        {
          "output_type": "stream",
          "name": "stdout",
          "text": [
            "My name isRUBEL\n",
            "I am  22 years old\n"
          ]
        }
      ]
    }
  ]
}