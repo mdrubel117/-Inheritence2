{
  "cells": [
    {
      "cell_type": "markdown",
      "metadata": {
        "id": "view-in-github",
        "colab_type": "text"
      },
      "source": [
        "<a href=\"https://colab.research.google.com/github/mdrubel117/-Inheritence2/blob/main/Cuda_matrixmul_.ipynb\" target=\"_parent\"><img src=\"https://colab.research.google.com/assets/colab-badge.svg\" alt=\"Open In Colab\"/></a>"
      ]
    },
    {
      "cell_type": "markdown",
      "metadata": {
        "id": "Zy8fq4OHrvlr"
      },
      "source": [
        "X, A, B\n",
        "X => C1 = A1 * B1\n",
        "C2 = A2 * B2"
      ]
    },
    {
      "cell_type": "code",
      "execution_count": 1,
      "metadata": {
        "colab": {
          "base_uri": "https://localhost:8080/"
        },
        "id": "k1kzz-4upUwX",
        "outputId": "0e1af4f7-1278-4b30-d2a4-69b06f0be707"
      },
      "outputs": [
        {
          "output_type": "stream",
          "name": "stdout",
          "text": [
            "Writing arif.cu\n"
          ]
        }
      ],
      "source": [
        "%%writefile arif.cu\n",
        "#include <iostream>\n",
        "#include <cuda_runtime.h>\n",
        "using namespace std;\n",
        "\n",
        "__global__ void matrixMul(float* A, float* B, float* C, int M, int N, int P, int offset) {\n",
        "    int k = threadIdx.x + offset;\n",
        "\n",
        "    float* a = A + k * M * N;\n",
        "    float* b = B + k * N * P;\n",
        "    float* c = C + k * M * P;\n",
        "\n",
        "    for(int i = 0; i < M; i++) {\n",
        "        for(int j = 0; j < N; j++) {\n",
        "            for(int l = 0; l < P; l++) {\n",
        "                //c[i][l] += a[i][j] * b[j][l];\n",
        "                c[i * P + l] += a[i * N + j] * b[j * P + l];\n",
        "            }\n",
        "        }\n",
        "    }\n",
        "}\n",
        "\n",
        "int main(int argc, char *argv[]) {\n",
        "\n",
        "    int T = atoi(argv[1]); //koyta thread use korte parbo\n",
        "    int K = atoi(argv[2]); //koita matrix gun\n",
        "\n",
        "    //100 gun, thread 10,\n",
        "\n",
        "    int M = 400, N = 400, P = 400;\n",
        "\n",
        "    int SizeA = M * N * K;\n",
        "    int SizeB = N * P * K;\n",
        "    int SizeC = M * P * K;\n",
        "\n",
        "    //memory alocate (cpu allocate)\n",
        "    float *h_A = new float[SizeA];\n",
        "    float *h_B = new float[SizeB];\n",
        "    float *h_C = new float[SizeC];\n",
        "\n",
        "\n",
        "    //malloc (gpu allocate)\n",
        "    float *d_A;\n",
        "    cudaMalloc(&d_A, SizeA * sizeof(float));\n",
        "    float *d_B;\n",
        "    cudaMalloc(&d_B, SizeB * sizeof(float));\n",
        "    float *d_C;\n",
        "    cudaMalloc(&d_C, SizeC * sizeof(float));\n",
        "\n",
        "    //data initialize\n",
        "    for (int i = 0; i < SizeA; i++) {\n",
        "        h_A[i] = rand();\n",
        "    }\n",
        "    for(int i = 0; i < SizeB; i++) {\n",
        "        h_B[i] = rand();\n",
        "    }\n",
        "\n",
        "\n",
        "    //copy from host to device\n",
        "    cudaMemcpy(d_A, h_A, SizeA * sizeof(float), cudaMemcpyHostToDevice);\n",
        "    cudaMemcpy(d_B, h_B, SizeB * sizeof(float), cudaMemcpyHostToDevice);\n",
        "\n",
        "    //cuda process suru\n",
        "    int gunKorteHobe = K;\n",
        "    int offset = 0;\n",
        "    while(gunKorteHobe > 0){\n",
        "\n",
        "        int currentBatch = min(gunKorteHobe, T);\n",
        "\n",
        "        matrixMul<<<1,currentBatch>>>(d_A, d_B, d_C, M, N, P, offset);\n",
        "        cudaDeviceSynchronize();\n",
        "\n",
        "        gunKorteHobe -= currentBatch;\n",
        "        offset += currentBatch;\n",
        "    }\n",
        "\n",
        "    //let's copy back to cpu\n",
        "    cudaMemcpy(h_C, d_C, SizeC * sizeof(float), cudaMemcpyDeviceToHost);\n",
        "\n",
        "    cout << \"All operation done\" << endl;\n",
        "\n",
        "}"
      ]
    },
    {
      "cell_type": "code",
      "execution_count": 2,
      "metadata": {
        "id": "goRub2rNpgwE"
      },
      "outputs": [],
      "source": [
        "!nvcc -arch=sm_75 arif.cu -o arif"
      ]
    },
    {
      "cell_type": "code",
      "execution_count": 3,
      "metadata": {
        "colab": {
          "base_uri": "https://localhost:8080/"
        },
        "id": "cODjrM1npnYz",
        "outputId": "a70c4a44-4f4c-453f-ec38-6b7875b17654"
      },
      "outputs": [
        {
          "output_type": "stream",
          "name": "stdout",
          "text": [
            "All operation done\n",
            "\n",
            "real\t1m1.078s\n",
            "user\t1m0.248s\n",
            "sys\t0m0.235s\n"
          ]
        }
      ],
      "source": [
        "!time ./arif 1 10 && sleep 2"
      ]
    },
    {
      "cell_type": "code",
      "execution_count": 4,
      "metadata": {
        "colab": {
          "base_uri": "https://localhost:8080/"
        },
        "id": "daM-kYWxrc5S",
        "outputId": "259343f5-da24-40b6-d163-9fc8dc336779"
      },
      "outputs": [
        {
          "output_type": "stream",
          "name": "stdout",
          "text": [
            "All operation done\n",
            "\n",
            "real\t0m25.328s\n",
            "user\t0m24.963s\n",
            "sys\t0m0.222s\n"
          ]
        }
      ],
      "source": [
        "!time ./arif 3 10 && sleep 2"
      ]
    },
    {
      "cell_type": "code",
      "execution_count": null,
      "metadata": {
        "id": "U3AsgHo8Bjkb",
        "colab": {
          "base_uri": "https://localhost:8080/"
        },
        "outputId": "dbf9f0ea-b55c-4468-f6df-76dca2ece5f1"
      },
      "outputs": [
        {
          "output_type": "stream",
          "name": "stdout",
          "text": [
            "All operation done\n",
            "\n",
            "real\t0m14.055s\n",
            "user\t0m13.789s\n",
            "sys\t0m0.213s\n"
          ]
        }
      ],
      "source": [
        "!time ./arif 7 10 && sleep 2"
      ]
    },
    {
      "cell_type": "code",
      "execution_count": null,
      "metadata": {
        "id": "YE3CMm9cB21s"
      },
      "outputs": [],
      "source": [
        "!time ./arif 10 10 && sleep 2"
      ]
    },
    {
      "cell_type": "code",
      "execution_count": null,
      "metadata": {
        "id": "cmWp3mINCADf"
      },
      "outputs": [],
      "source": [
        "!time ./arif 20 10 && sleep 2"
      ]
    }
  ],
  "metadata": {
    "accelerator": "GPU",
    "colab": {
      "gpuType": "T4",
      "provenance": [],
      "include_colab_link": true
    },
    "kernelspec": {
      "display_name": "Python 3",
      "name": "python3"
    },
    "language_info": {
      "name": "python"
    }
  },
  "nbformat": 4,
  "nbformat_minor": 0
}