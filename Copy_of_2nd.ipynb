{
  "nbformat": 4,
  "nbformat_minor": 0,
  "metadata": {
    "colab": {
      "private_outputs": true,
      "provenance": [],
      "authorship_tag": "ABX9TyPac60UI43rymozsAF9bUgw",
      "include_colab_link": true
    },
    "kernelspec": {
      "name": "python3",
      "display_name": "Python 3"
    },
    "language_info": {
      "name": "python"
    }
  },
  "cells": [
    {
      "cell_type": "markdown",
      "metadata": {
        "id": "view-in-github",
        "colab_type": "text"
      },
      "source": [
        "<a href=\"https://colab.research.google.com/github/mdrubel117/-Inheritence2/blob/main/Copy_of_2nd.ipynb\" target=\"_parent\"><img src=\"https://colab.research.google.com/assets/colab-badge.svg\" alt=\"Open In Colab\"/></a>"
      ]
    },
    {
      "cell_type": "code",
      "execution_count": null,
      "metadata": {
        "id": "4bTenLYoxFWu"
      },
      "outputs": [],
      "source": [
        "#function:\n",
        "from math import*\n",
        "print(max(34,32))\n",
        "print(min(34,32))\n",
        "print(pow(3,2))\n",
        "print(abs(-44))\n",
        "print(sqrt(16))\n",
        "print(round(3.7))\n",
        "print(ceil(3.7))\n",
        "print(floor(3.7))"
      ]
    },
    {
      "cell_type": "code",
      "source": [
        "num1=11\n",
        "num2=22\n",
        "print(num1,num2)\n",
        "print(f\"{num1}+{num2}={num1+num2}\")\n",
        "print(\"Python tutorial\",end=\" \")\n",
        "print(\"in google colab\")\n"
      ],
      "metadata": {
        "id": "oe2R08aP1rAf"
      },
      "execution_count": null,
      "outputs": []
    },
    {
      "cell_type": "code",
      "source": [
        "#relational operators:\n",
        "a=23\n",
        "b=45\n",
        "a=b\n",
        "print(a)\n",
        "print(34>33)\n",
        "print(34<33)\n",
        "print(34>=33)\n",
        "print(34<=33)\n",
        "print(34==33)\n",
        "print(34!=33)\n",
        "print(\"su\"==\"uu\")\n"
      ],
      "metadata": {
        "id": "HHCfMG1c6zOu"
      },
      "execution_count": null,
      "outputs": []
    },
    {
      "cell_type": "code",
      "source": [
        "#statements:\n",
        "print(45)\n",
        "mark=67\n",
        "\n",
        "if (mark>=33):\n",
        " print(\"pass\")\n",
        "if (mark<=33):\n",
        " print(\"B+\")\n",
        "\n",
        "if (mark>=99):\n",
        " print(\"pass\")\n",
        "else:\n",
        " print(\"B+\")\n"
      ],
      "metadata": {
        "id": "hhN6ac8gDg57"
      },
      "execution_count": null,
      "outputs": []
    },
    {
      "cell_type": "code",
      "source": [
        "#if_else:\n",
        "mark=76\n",
        "if (mark>=80):\n",
        " print(\"A+\")\n",
        "elif (mark>70):\n",
        "  if(mark>=75):\n",
        "     print(\"B+\")\n",
        "  else:\n",
        "    print(\"B\")\n",
        "elif (mark>=60):\n",
        " print(\"C\")\n",
        "else:\n",
        "  print(\"Fail\")\n",
        "\n",
        "\n"
      ],
      "metadata": {
        "id": "62ioBh0yHsW7"
      },
      "execution_count": null,
      "outputs": []
    },
    {
      "cell_type": "code",
      "source": [
        "#loop control statement:\n",
        "num=1\n",
        "while(num<10):\n",
        "  print(num,end=\" \")\n",
        "  num=num+1\n"
      ],
      "metadata": {
        "id": "El1uDhzHQSL7"
      },
      "execution_count": null,
      "outputs": []
    },
    {
      "cell_type": "code",
      "source": [
        "#namta:\n",
        "num=5\n",
        "count=1\n",
        "while(count<=10):\n",
        "  print(f\"{num} * {count}={num*count}\")\n",
        "  count=count+1\n"
      ],
      "metadata": {
        "id": "anQMGKDZTzwH"
      },
      "execution_count": null,
      "outputs": []
    },
    {
      "cell_type": "code",
      "source": [
        "#nth number sum:\n",
        "n=1\n",
        "result=0\n",
        "while(n<=10):\n",
        " result=result+n\n",
        " n=n+1\n",
        "print(result)\n",
        "\n"
      ],
      "metadata": {
        "id": "nwwVra20WEb9"
      },
      "execution_count": null,
      "outputs": []
    },
    {
      "cell_type": "code",
      "source": [
        "#break and continue:\n",
        "n=1\n",
        "result=0\n",
        "while(n<=10):\n",
        " if(n==9):\n",
        "  break\n",
        " result=result+n\n",
        " n=n+1\n",
        "print(result)\n"
      ],
      "metadata": {
        "id": "ef6C1edlaMAC"
      },
      "execution_count": null,
      "outputs": []
    },
    {
      "cell_type": "code",
      "source": [
        "#break and continue:\n",
        "n=1\n",
        "result=0\n",
        "while(n<=10):\n",
        " if(n==9):\n",
        "   n=n+1\n",
        "   continue\n",
        " result=result+n\n",
        " n=n+1\n",
        "print(result)"
      ],
      "metadata": {
        "id": "OwzG1kwqi8ml"
      },
      "execution_count": null,
      "outputs": []
    }
  ]
}